{
 "cells": [
  {
   "cell_type": "code",
   "execution_count": 1,
   "metadata": {},
   "outputs": [
    {
     "name": "stderr",
     "output_type": "stream",
     "text": [
      "C:\\Users\\tittj\\Anaconda3\\envs\\om-altair-dev\\lib\\site-packages\\ipykernel_launcher.py:6: FutureWarning: pandas.util.testing is deprecated. Use the functions in the public API at pandas.testing instead.\n",
      "  \n"
     ]
    }
   ],
   "source": [
    "import sys\n",
    "\n",
    "import altair as alt\n",
    "import numpy as np\n",
    "import pandas as pd\n",
    "import pandas.util.testing as tm\n",
    "\n",
    "sys.path.append(\"..\")"
   ]
  },
  {
   "cell_type": "code",
   "execution_count": 2,
   "metadata": {},
   "outputs": [],
   "source": [
    "from openmined_theme import openmined"
   ]
  },
  {
   "cell_type": "code",
   "execution_count": 3,
   "metadata": {},
   "outputs": [
    {
     "data": {
      "text/plain": [
       "ThemeRegistry.enable('openmined')"
      ]
     },
     "execution_count": 3,
     "metadata": {},
     "output_type": "execute_result"
    }
   ],
   "source": [
    "alt.themes.register('openmined', openmined)\n",
    "\n",
    "# enable the newly registered theme\n",
    "alt.themes.enable('openmined')"
   ]
  },
  {
   "cell_type": "code",
   "execution_count": 4,
   "metadata": {},
   "outputs": [],
   "source": [
    "data = pd.DataFrame({\n",
    "    \"labels\": [\"A\", \"Bar\", \"Chart\", \"Example\"],\n",
    "    \"values\": [100, 80, 112, 56],\n",
    "})"
   ]
  },
  {
   "cell_type": "code",
   "execution_count": 5,
   "metadata": {},
   "outputs": [
    {
     "data": {
      "text/html": [
       "\n",
       "<div id=\"altair-viz-3bdd8b11cf8c45c79efb7bd819db0755\"></div>\n",
       "<script type=\"text/javascript\">\n",
       "  (function(spec, embedOpt){\n",
       "    let outputDiv = document.currentScript.previousElementSibling;\n",
       "    if (outputDiv.id !== \"altair-viz-3bdd8b11cf8c45c79efb7bd819db0755\") {\n",
       "      outputDiv = document.getElementById(\"altair-viz-3bdd8b11cf8c45c79efb7bd819db0755\");\n",
       "    }\n",
       "    const paths = {\n",
       "      \"vega\": \"https://cdn.jsdelivr.net/npm//vega@5?noext\",\n",
       "      \"vega-lib\": \"https://cdn.jsdelivr.net/npm//vega-lib?noext\",\n",
       "      \"vega-lite\": \"https://cdn.jsdelivr.net/npm//vega-lite@4.8.1?noext\",\n",
       "      \"vega-embed\": \"https://cdn.jsdelivr.net/npm//vega-embed@6?noext\",\n",
       "    };\n",
       "\n",
       "    function loadScript(lib) {\n",
       "      return new Promise(function(resolve, reject) {\n",
       "        var s = document.createElement('script');\n",
       "        s.src = paths[lib];\n",
       "        s.async = true;\n",
       "        s.onload = () => resolve(paths[lib]);\n",
       "        s.onerror = () => reject(`Error loading script: ${paths[lib]}`);\n",
       "        document.getElementsByTagName(\"head\")[0].appendChild(s);\n",
       "      });\n",
       "    }\n",
       "\n",
       "    function showError(err) {\n",
       "      outputDiv.innerHTML = `<div class=\"error\" style=\"color:red;\">${err}</div>`;\n",
       "      throw err;\n",
       "    }\n",
       "\n",
       "    function displayChart(vegaEmbed) {\n",
       "      vegaEmbed(outputDiv, spec, embedOpt)\n",
       "        .catch(err => showError(`Javascript Error: ${err.message}<br>This usually means there's a typo in your chart specification. See the javascript console for the full traceback.`));\n",
       "    }\n",
       "\n",
       "    if(typeof define === \"function\" && define.amd) {\n",
       "      requirejs.config({paths});\n",
       "      require([\"vega-embed\"], displayChart, err => showError(`Error loading script: ${err.message}`));\n",
       "    } else if (typeof vegaEmbed === \"function\") {\n",
       "      displayChart(vegaEmbed);\n",
       "    } else {\n",
       "      loadScript(\"vega\")\n",
       "        .then(() => loadScript(\"vega-lite\"))\n",
       "        .then(() => loadScript(\"vega-embed\"))\n",
       "        .catch(showError)\n",
       "        .then(() => displayChart(vegaEmbed));\n",
       "    }\n",
       "  })({\"config\": {\"background\": \"#FFFFFF\", \"title\": {\"anchor\": \"start\", \"color\": \"#323232\", \"font\": \"PT Mono\", \"fontSize\": 22, \"fontWeight\": \"normal\"}, \"legend\": {\"labelFont\": \"Overpass\", \"labelFontSize\": 13, \"symbolType\": \"circle\", \"titleFont\": \"PT Mono\", \"titleFontSize\": 11}, \"axis\": {\"domain\": false, \"grid\": false, \"labelColor\": \"#323232\", \"labelPadding\": 4, \"tickColor\": \"#323232\", \"tickSize\": 5.67, \"titleFontSize\": 16, \"titleFontWeight\": \"normal\"}, \"range\": {\"category\": [\"#ED986C\", \"#5CB5A4\", \"#767EA1\", \"#C3707C\", \"#F1BF7A\", \"#9BCC9A\", \"#62A4AE\", \"#EF996B\"], \"heatmap\": [\"#F1BF7A\", \"#ED986C\"], \"ordinal\": [\"#F1BF7A\", \"#ED986C\"]}, \"arc\": {\"fill\": \"#ED986C\"}, \"area\": {\"fill\": \"#ED986C\"}, \"point\": {\"fill\": \"#ED986C\", \"filled\": true, \"shape\": \"M 0 -1 l 0.179 0.821 L 1 0 l -0.821 0.179 L 0 1 l -0.179 -0.821 L -1 0 l 0.821 -0.179 Z\", \"size\": 250}, \"line\": {\"stroke\": \"#ED986C\", \"strokeWidth\": 2}, \"bar\": {\"binSpacing\": 2, \"fill\": \"#ED986C\", \"stroke\": null}}, \"data\": {\"name\": \"data-1bc57f19044ca53e0cbf3be082319361\"}, \"mark\": \"bar\", \"encoding\": {\"color\": {\"type\": \"ordinal\", \"field\": \"values\"}, \"x\": {\"type\": \"quantitative\", \"field\": \"values\"}, \"y\": {\"type\": \"nominal\", \"field\": \"labels\"}}, \"title\": \"Mark Bar Example\", \"$schema\": \"https://vega.github.io/schema/vega-lite/v4.8.1.json\", \"datasets\": {\"data-1bc57f19044ca53e0cbf3be082319361\": [{\"labels\": \"A\", \"values\": 100}, {\"labels\": \"Bar\", \"values\": 80}, {\"labels\": \"Chart\", \"values\": 112}, {\"labels\": \"Example\", \"values\": 56}]}}, {\"mode\": \"vega-lite\"});\n",
       "</script>"
      ],
      "text/plain": [
       "alt.Chart(...)"
      ]
     },
     "execution_count": 5,
     "metadata": {},
     "output_type": "execute_result"
    }
   ],
   "source": [
    "alt.Chart(data).mark_bar().encode(\n",
    "    x=\"values:Q\",\n",
    "    y=\"labels\",\n",
    "    color=\"values:O\"\n",
    ").properties(title=\"Mark Bar Example\")"
   ]
  },
  {
   "cell_type": "code",
   "execution_count": null,
   "metadata": {},
   "outputs": [],
   "source": []
  }
 ],
 "metadata": {
  "kernelspec": {
   "display_name": "Python 3",
   "language": "python",
   "name": "python3"
  },
  "language_info": {
   "codemirror_mode": {
    "name": "ipython",
    "version": 3
   },
   "file_extension": ".py",
   "mimetype": "text/x-python",
   "name": "python",
   "nbconvert_exporter": "python",
   "pygments_lexer": "ipython3",
   "version": "3.7.6"
  }
 },
 "nbformat": 4,
 "nbformat_minor": 4
}
