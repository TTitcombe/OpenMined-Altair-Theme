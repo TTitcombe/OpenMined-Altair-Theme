{
 "cells": [
  {
   "cell_type": "code",
   "execution_count": 1,
   "metadata": {},
   "outputs": [],
   "source": [
    "import sys\n",
    "\n",
    "import altair as alt\n",
    "import numpy as np\n",
    "import pandas as pd\n",
    "from vega_datasets import data\n",
    "\n",
    "sys.path.append(\"..\")"
   ]
  },
  {
   "cell_type": "code",
   "execution_count": 2,
   "metadata": {},
   "outputs": [],
   "source": [
    "from openmined_theme import openmined"
   ]
  },
  {
   "cell_type": "code",
   "execution_count": 3,
   "metadata": {},
   "outputs": [
    {
     "data": {
      "text/plain": [
       "ThemeRegistry.enable('openmined')"
      ]
     },
     "execution_count": 3,
     "metadata": {},
     "output_type": "execute_result"
    }
   ],
   "source": [
    "alt.themes.register('openmined', openmined)\n",
    "\n",
    "# enable the newly registered theme\n",
    "alt.themes.enable('openmined')"
   ]
  },
  {
   "cell_type": "code",
   "execution_count": 7,
   "metadata": {},
   "outputs": [
    {
     "data": {
      "text/html": [
       "\n",
       "<div id=\"altair-viz-c21eb3535ed64766979fcf22875c6153\"></div>\n",
       "<script type=\"text/javascript\">\n",
       "  (function(spec, embedOpt){\n",
       "    let outputDiv = document.currentScript.previousElementSibling;\n",
       "    if (outputDiv.id !== \"altair-viz-c21eb3535ed64766979fcf22875c6153\") {\n",
       "      outputDiv = document.getElementById(\"altair-viz-c21eb3535ed64766979fcf22875c6153\");\n",
       "    }\n",
       "    const paths = {\n",
       "      \"vega\": \"https://cdn.jsdelivr.net/npm//vega@5?noext\",\n",
       "      \"vega-lib\": \"https://cdn.jsdelivr.net/npm//vega-lib?noext\",\n",
       "      \"vega-lite\": \"https://cdn.jsdelivr.net/npm//vega-lite@4.8.1?noext\",\n",
       "      \"vega-embed\": \"https://cdn.jsdelivr.net/npm//vega-embed@6?noext\",\n",
       "    };\n",
       "\n",
       "    function loadScript(lib) {\n",
       "      return new Promise(function(resolve, reject) {\n",
       "        var s = document.createElement('script');\n",
       "        s.src = paths[lib];\n",
       "        s.async = true;\n",
       "        s.onload = () => resolve(paths[lib]);\n",
       "        s.onerror = () => reject(`Error loading script: ${paths[lib]}`);\n",
       "        document.getElementsByTagName(\"head\")[0].appendChild(s);\n",
       "      });\n",
       "    }\n",
       "\n",
       "    function showError(err) {\n",
       "      outputDiv.innerHTML = `<div class=\"error\" style=\"color:red;\">${err}</div>`;\n",
       "      throw err;\n",
       "    }\n",
       "\n",
       "    function displayChart(vegaEmbed) {\n",
       "      vegaEmbed(outputDiv, spec, embedOpt)\n",
       "        .catch(err => showError(`Javascript Error: ${err.message}<br>This usually means there's a typo in your chart specification. See the javascript console for the full traceback.`));\n",
       "    }\n",
       "\n",
       "    if(typeof define === \"function\" && define.amd) {\n",
       "      requirejs.config({paths});\n",
       "      require([\"vega-embed\"], displayChart, err => showError(`Error loading script: ${err.message}`));\n",
       "    } else if (typeof vegaEmbed === \"function\") {\n",
       "      displayChart(vegaEmbed);\n",
       "    } else {\n",
       "      loadScript(\"vega\")\n",
       "        .then(() => loadScript(\"vega-lite\"))\n",
       "        .then(() => loadScript(\"vega-embed\"))\n",
       "        .catch(showError)\n",
       "        .then(() => displayChart(vegaEmbed));\n",
       "    }\n",
       "  })({\"config\": {\"background\": \"#FFFFFF\", \"title\": {\"anchor\": \"start\", \"color\": \"#323232\", \"font\": \"PT Mono\", \"fontSize\": 22, \"fontWeight\": \"normal\"}, \"legend\": {\"labelFont\": \"Overpass\", \"labelFontSize\": 13, \"symbolType\": \"circle\", \"titleFont\": \"PT Mono\", \"titleFontSize\": 11}, \"axis\": {\"domain\": false, \"grid\": false, \"labelColor\": \"#323232\", \"labelPadding\": 4, \"tickColor\": \"#323232\", \"tickSize\": 5.67, \"titleFontSize\": 16, \"titleFontWeight\": \"normal\"}, \"range\": {\"category\": [\"#ED986C\", \"#5CB5A4\", \"#767EA1\", \"#C3707C\", \"#F1BF7A\", \"#9BCC9A\", \"#62A4AE\", \"#EF996B\"], \"heatmap\": [\"#F1BF7A\", \"#ED986C\"], \"ordinal\": [\"#F1BF7A\", \"#ED986C\"]}, \"arc\": {\"fill\": \"#ED986C\"}, \"area\": {\"fill\": \"#ED986C\"}, \"point\": {\"fill\": \"#ED986C\", \"filled\": true, \"shape\": \"M 0 -1 l 0.179 0.821 L 1 0 l -0.821 0.179 L 0 1 l -0.179 -0.821 L -1 0 l 0.821 -0.179 Z\", \"size\": 250}, \"line\": {\"stroke\": \"#ED986C\", \"strokeWidth\": 2}, \"bar\": {\"binSpacing\": 2, \"fill\": \"#ED986C\", \"stroke\": null}}, \"data\": {\"url\": \"https://vega.github.io/vega-datasets/data/iris.json\"}, \"mark\": \"point\", \"encoding\": {\"color\": {\"type\": \"nominal\", \"field\": \"species\"}, \"x\": {\"type\": \"quantitative\", \"field\": \"petalLength\"}, \"y\": {\"type\": \"quantitative\", \"field\": \"petalWidth\"}}, \"selection\": {\"selector002\": {\"type\": \"interval\", \"bind\": \"scales\", \"encodings\": [\"x\", \"y\"]}}, \"title\": \"Mark Point Example\", \"$schema\": \"https://vega.github.io/schema/vega-lite/v4.8.1.json\"}, {\"mode\": \"vega-lite\"});\n",
       "</script>"
      ],
      "text/plain": [
       "alt.Chart(...)"
      ]
     },
     "execution_count": 7,
     "metadata": {},
     "output_type": "execute_result"
    }
   ],
   "source": [
    "alt.Chart(data.iris.url).mark_point().encode(\n",
    "    x=\"petalLength:Q\",\n",
    "    y=\"petalWidth:Q\",\n",
    "    color=\"species:N\",\n",
    ").properties(title=\"Mark Point Example\").interactive()"
   ]
  },
  {
   "cell_type": "markdown",
   "metadata": {},
   "source": [
    "## Diverging colour"
   ]
  },
  {
   "cell_type": "code",
   "execution_count": 5,
   "metadata": {},
   "outputs": [],
   "source": [
    "data2 = pd.DataFrame({\n",
    "    \"x\": np.random.randint(0, 100, size=(50,)),\n",
    "    \"y\": np.random.normal(0, 1, size=(50,)),\n",
    "    \"value\": np.random.normal(10, 100, size=(50,))\n",
    "})"
   ]
  },
  {
   "cell_type": "code",
   "execution_count": 6,
   "metadata": {},
   "outputs": [
    {
     "data": {
      "text/html": [
       "\n",
       "<div id=\"altair-viz-45bb5c207152444ab3007df739f7c15d\"></div>\n",
       "<script type=\"text/javascript\">\n",
       "  (function(spec, embedOpt){\n",
       "    let outputDiv = document.currentScript.previousElementSibling;\n",
       "    if (outputDiv.id !== \"altair-viz-45bb5c207152444ab3007df739f7c15d\") {\n",
       "      outputDiv = document.getElementById(\"altair-viz-45bb5c207152444ab3007df739f7c15d\");\n",
       "    }\n",
       "    const paths = {\n",
       "      \"vega\": \"https://cdn.jsdelivr.net/npm//vega@5?noext\",\n",
       "      \"vega-lib\": \"https://cdn.jsdelivr.net/npm//vega-lib?noext\",\n",
       "      \"vega-lite\": \"https://cdn.jsdelivr.net/npm//vega-lite@4.8.1?noext\",\n",
       "      \"vega-embed\": \"https://cdn.jsdelivr.net/npm//vega-embed@6?noext\",\n",
       "    };\n",
       "\n",
       "    function loadScript(lib) {\n",
       "      return new Promise(function(resolve, reject) {\n",
       "        var s = document.createElement('script');\n",
       "        s.src = paths[lib];\n",
       "        s.async = true;\n",
       "        s.onload = () => resolve(paths[lib]);\n",
       "        s.onerror = () => reject(`Error loading script: ${paths[lib]}`);\n",
       "        document.getElementsByTagName(\"head\")[0].appendChild(s);\n",
       "      });\n",
       "    }\n",
       "\n",
       "    function showError(err) {\n",
       "      outputDiv.innerHTML = `<div class=\"error\" style=\"color:red;\">${err}</div>`;\n",
       "      throw err;\n",
       "    }\n",
       "\n",
       "    function displayChart(vegaEmbed) {\n",
       "      vegaEmbed(outputDiv, spec, embedOpt)\n",
       "        .catch(err => showError(`Javascript Error: ${err.message}<br>This usually means there's a typo in your chart specification. See the javascript console for the full traceback.`));\n",
       "    }\n",
       "\n",
       "    if(typeof define === \"function\" && define.amd) {\n",
       "      requirejs.config({paths});\n",
       "      require([\"vega-embed\"], displayChart, err => showError(`Error loading script: ${err.message}`));\n",
       "    } else if (typeof vegaEmbed === \"function\") {\n",
       "      displayChart(vegaEmbed);\n",
       "    } else {\n",
       "      loadScript(\"vega\")\n",
       "        .then(() => loadScript(\"vega-lite\"))\n",
       "        .then(() => loadScript(\"vega-embed\"))\n",
       "        .catch(showError)\n",
       "        .then(() => displayChart(vegaEmbed));\n",
       "    }\n",
       "  })({\"config\": {\"background\": \"#FFFFFF\", \"title\": {\"anchor\": \"start\", \"color\": \"#323232\", \"font\": \"PT Mono\", \"fontSize\": 22, \"fontWeight\": \"normal\"}, \"legend\": {\"labelFont\": \"Overpass\", \"labelFontSize\": 13, \"symbolType\": \"circle\", \"titleFont\": \"PT Mono\", \"titleFontSize\": 11}, \"axis\": {\"domain\": false, \"grid\": false, \"labelColor\": \"#323232\", \"labelPadding\": 4, \"tickColor\": \"#323232\", \"tickSize\": 5.67, \"titleFontSize\": 16, \"titleFontWeight\": \"normal\"}, \"range\": {\"category\": [\"#ED986C\", \"#5CB5A4\", \"#767EA1\", \"#C3707C\", \"#F1BF7A\", \"#9BCC9A\", \"#62A4AE\", \"#EF996B\"], \"heatmap\": [\"#F1BF7A\", \"#ED986C\"], \"ordinal\": [\"#F1BF7A\", \"#ED986C\"]}, \"arc\": {\"fill\": \"#ED986C\"}, \"area\": {\"fill\": \"#ED986C\"}, \"point\": {\"fill\": \"#ED986C\", \"filled\": true, \"shape\": \"M 0 -1 l 0.179 0.821 L 1 0 l -0.821 0.179 L 0 1 l -0.179 -0.821 L -1 0 l 0.821 -0.179 Z\", \"size\": 250}, \"line\": {\"stroke\": \"#ED986C\", \"strokeWidth\": 2}, \"bar\": {\"binSpacing\": 2, \"fill\": \"#ED986C\", \"stroke\": null}}, \"data\": {\"name\": \"data-aef7722f39ce09fdc4305ff18310f80a\"}, \"mark\": \"point\", \"encoding\": {\"color\": {\"type\": \"quantitative\", \"field\": \"value\"}, \"x\": {\"type\": \"quantitative\", \"field\": \"x\"}, \"y\": {\"type\": \"quantitative\", \"field\": \"y\"}}, \"$schema\": \"https://vega.github.io/schema/vega-lite/v4.8.1.json\", \"datasets\": {\"data-aef7722f39ce09fdc4305ff18310f80a\": [{\"x\": 24, \"y\": 0.4249839567536285, \"value\": 155.98678498344754}, {\"x\": 69, \"y\": -0.0979225725514147, \"value\": 55.193515225007594}, {\"x\": 69, \"y\": 0.4981694834166668, \"value\": 20.636800342397382}, {\"x\": 27, \"y\": -0.22114448122925026, \"value\": 56.265464401528746}, {\"x\": 81, \"y\": 0.7696832561981869, \"value\": -13.285486371050723}, {\"x\": 41, \"y\": 0.37125163484974133, \"value\": 27.987544332021624}, {\"x\": 66, \"y\": 1.2971732139507952, \"value\": 91.08917936463}, {\"x\": 30, \"y\": 1.842976840354889, \"value\": -139.77697594265223}, {\"x\": 13, \"y\": -0.23190778451045588, \"value\": 104.45257011132009}, {\"x\": 76, \"y\": 1.3120174579741628, \"value\": 22.164835777350802}, {\"x\": 13, \"y\": -0.2069077472942165, \"value\": 11.706335480821014}, {\"x\": 49, \"y\": -0.565017494766726, \"value\": -38.00788365939266}, {\"x\": 86, \"y\": 1.3605041273200762, \"value\": 62.778989923052045}, {\"x\": 72, \"y\": -0.8874040111067312, \"value\": 0.8166572694487577}, {\"x\": 22, \"y\": 0.6711109385404292, \"value\": 79.6626996962707}, {\"x\": 44, \"y\": 0.003945480198841114, \"value\": 68.9438973844129}, {\"x\": 65, \"y\": 1.4509530249480889, \"value\": 48.730633907271304}, {\"x\": 75, \"y\": 0.9797488937714685, \"value\": -49.17672468834031}, {\"x\": 79, \"y\": -0.5359390903198454, \"value\": -42.357739030179026}, {\"x\": 62, \"y\": -2.0290003021209526, \"value\": -17.435209771775725}, {\"x\": 85, \"y\": 1.31164088888818, \"value\": 241.71138435550995}, {\"x\": 44, \"y\": 1.3076389806198947, \"value\": 69.55882053995248}, {\"x\": 52, \"y\": -1.8458292153597582, \"value\": 142.7569801947757}, {\"x\": 0, \"y\": 1.353185505052268, \"value\": -7.360250765036863}, {\"x\": 87, \"y\": -0.6408481414707029, \"value\": -87.58797473694403}, {\"x\": 15, \"y\": -0.25303157489386113, \"value\": 133.91284487808417}, {\"x\": 25, \"y\": -0.36790769939024803, \"value\": -7.554713471563694}, {\"x\": 54, \"y\": 0.9899781781844362, \"value\": 17.66496502643062}, {\"x\": 47, \"y\": 0.5220764442062805, \"value\": -18.852663460908424}, {\"x\": 7, \"y\": 0.8642707978165434, \"value\": 147.2746587878736}, {\"x\": 27, \"y\": 1.598236617074728, \"value\": 42.435568130084405}, {\"x\": 37, \"y\": 0.30687737499166473, \"value\": 117.18956771207371}, {\"x\": 43, \"y\": 1.1478923479071201, \"value\": -166.67251914054543}, {\"x\": 93, \"y\": 0.7314955835669104, \"value\": -85.41317129104611}, {\"x\": 15, \"y\": -0.7089441864535789, \"value\": -72.39190300839387}, {\"x\": 88, \"y\": 0.21586367945119678, \"value\": -200.12929581380058}, {\"x\": 60, \"y\": -0.10236076493073258, \"value\": -101.93640058775041}, {\"x\": 20, \"y\": 1.933558805777319, \"value\": -101.09692107824189}, {\"x\": 69, \"y\": 1.21659732276026, \"value\": -38.88196150934655}, {\"x\": 28, \"y\": 2.715336535520075, \"value\": 3.6738491771161916}, {\"x\": 7, \"y\": 0.06519293350895963, \"value\": -91.51435315338884}, {\"x\": 24, \"y\": 0.4364008839546095, \"value\": 94.67558853971508}, {\"x\": 97, \"y\": -0.8784168828723234, \"value\": 55.750535616980855}, {\"x\": 95, \"y\": -1.1188932563152838, \"value\": 4.397566579700013}, {\"x\": 30, \"y\": 0.5183865928244391, \"value\": 56.105047158317824}, {\"x\": 57, \"y\": -0.22251841090234806, \"value\": -3.869201737903831}, {\"x\": 1, \"y\": -0.48946308915458353, \"value\": -52.51194411899663}, {\"x\": 8, \"y\": -1.0477136574278032, \"value\": -29.012622204248167}, {\"x\": 8, \"y\": 0.7420670555508853, \"value\": 55.24571615280022}, {\"x\": 9, \"y\": -1.7111217844874336, \"value\": 121.76523288621061}]}}, {\"mode\": \"vega-lite\"});\n",
       "</script>"
      ],
      "text/plain": [
       "alt.Chart(...)"
      ]
     },
     "execution_count": 6,
     "metadata": {},
     "output_type": "execute_result"
    }
   ],
   "source": [
    "alt.Chart(data2).mark_point().encode(\n",
    "    x=\"x:Q\",\n",
    "    y=\"y:Q\",\n",
    "    color=\"value:Q\"\n",
    ")"
   ]
  },
  {
   "cell_type": "code",
   "execution_count": null,
   "metadata": {},
   "outputs": [],
   "source": []
  }
 ],
 "metadata": {
  "kernelspec": {
   "display_name": "Python 3",
   "language": "python",
   "name": "python3"
  },
  "language_info": {
   "codemirror_mode": {
    "name": "ipython",
    "version": 3
   },
   "file_extension": ".py",
   "mimetype": "text/x-python",
   "name": "python",
   "nbconvert_exporter": "python",
   "pygments_lexer": "ipython3",
   "version": "3.7.6"
  }
 },
 "nbformat": 4,
 "nbformat_minor": 4
}
