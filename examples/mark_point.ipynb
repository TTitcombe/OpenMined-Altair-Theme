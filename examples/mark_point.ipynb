{
 "cells": [
  {
   "cell_type": "code",
   "execution_count": 1,
   "metadata": {},
   "outputs": [],
   "source": [
    "import sys\n",
    "\n",
    "import altair as alt\n",
    "import pandas as pd\n",
    "\n",
    "sys.path.append(\"..\")"
   ]
  },
  {
   "cell_type": "code",
   "execution_count": 2,
   "metadata": {},
   "outputs": [],
   "source": [
    "from openmined_theme import openmined"
   ]
  },
  {
   "cell_type": "code",
   "execution_count": 3,
   "metadata": {},
   "outputs": [
    {
     "data": {
      "text/plain": [
       "ThemeRegistry.enable('openmined')"
      ]
     },
     "execution_count": 3,
     "metadata": {},
     "output_type": "execute_result"
    }
   ],
   "source": [
    "alt.themes.register('openmined', openmined)\n",
    "\n",
    "# enable the newly registered theme\n",
    "alt.themes.enable('openmined')"
   ]
  },
  {
   "cell_type": "code",
   "execution_count": 4,
   "metadata": {},
   "outputs": [],
   "source": [
    "data = pd.DataFrame({\n",
    "    \"x\": [0, 1, 2, 0.5, 1, 2, 0.6, 1,1.2, 0.4, 1, 1.8],\n",
    "    \"y\": [0, 1, 2, 2, 1.5, 0, 3, 2.7, 2.2, 0.4, 1.4, 0.7],\n",
    "    \"group\": [0, 0, 0, 1, 1, 1, 2, 2, 2, 3, 3, 3],\n",
    "})"
   ]
  },
  {
   "cell_type": "code",
   "execution_count": 5,
   "metadata": {},
   "outputs": [
    {
     "data": {
      "text/html": [
       "\n",
       "<div id=\"altair-viz-89d099da35c9432eaeae083936eb203c\"></div>\n",
       "<script type=\"text/javascript\">\n",
       "  (function(spec, embedOpt){\n",
       "    const outputDiv = document.getElementById(\"altair-viz-89d099da35c9432eaeae083936eb203c\");\n",
       "    const paths = {\n",
       "      \"vega\": \"https://cdn.jsdelivr.net/npm//vega@5?noext\",\n",
       "      \"vega-lib\": \"https://cdn.jsdelivr.net/npm//vega-lib?noext\",\n",
       "      \"vega-lite\": \"https://cdn.jsdelivr.net/npm//vega-lite@4.0.2?noext\",\n",
       "      \"vega-embed\": \"https://cdn.jsdelivr.net/npm//vega-embed@6?noext\",\n",
       "    };\n",
       "\n",
       "    function loadScript(lib) {\n",
       "      return new Promise(function(resolve, reject) {\n",
       "        var s = document.createElement('script');\n",
       "        s.src = paths[lib];\n",
       "        s.async = true;\n",
       "        s.onload = () => resolve(paths[lib]);\n",
       "        s.onerror = () => reject(`Error loading script: ${paths[lib]}`);\n",
       "        document.getElementsByTagName(\"head\")[0].appendChild(s);\n",
       "      });\n",
       "    }\n",
       "\n",
       "    function showError(err) {\n",
       "      outputDiv.innerHTML = `<div class=\"error\" style=\"color:red;\">${err}</div>`;\n",
       "      throw err;\n",
       "    }\n",
       "\n",
       "    function displayChart(vegaEmbed) {\n",
       "      vegaEmbed(outputDiv, spec, embedOpt)\n",
       "        .catch(err => showError(`Javascript Error: ${err.message}<br>This usually means there's a typo in your chart specification. See the javascript console for the full traceback.`));\n",
       "    }\n",
       "\n",
       "    if(typeof define === \"function\" && define.amd) {\n",
       "      requirejs.config({paths});\n",
       "      require([\"vega-embed\"], displayChart, err => showError(`Error loading script: ${err.message}`));\n",
       "    } else if (typeof vegaEmbed === \"function\") {\n",
       "      displayChart(vegaEmbed);\n",
       "    } else {\n",
       "      loadScript(\"vega\")\n",
       "        .then(() => loadScript(\"vega-lite\"))\n",
       "        .then(() => loadScript(\"vega-embed\"))\n",
       "        .catch(showError)\n",
       "        .then(() => displayChart(vegaEmbed));\n",
       "    }\n",
       "  })({\"config\": {\"background\": \"#FFFFFF\", \"title\": {\"anchor\": \"start\", \"color\": \"#323232\", \"font\": \"PT Mono\", \"fontSize\": 22, \"fontWeight\": \"normal\"}, \"legend\": {\"labelFont\": \"Overpass\", \"labelFontSize\": 13, \"symbolType\": \"circle\", \"titleFont\": \"PT Mono\", \"titleFontSize\": 11}, \"axis\": {\"domain\": false, \"grid\": false, \"labelColor\": \"#323232\", \"labelPadding\": 4, \"tickColor\": \"#323232\", \"tickSize\": 5.67, \"titleFontSize\": 16, \"titleFontWeight\": \"normal\"}, \"range\": {\"category\": [\"#ED986C\", \"#5CB5A4\", \"#767EA1\", \"#C3707C\"], \"diverging\": [], \"heatmap\": []}, \"arc\": {\"fill\": \"#ED986C\"}, \"area\": {\"fill\": \"#ED986C\"}, \"point\": {\"filled\": true, \"shape\": \"circle\"}, \"line\": {\"stroke\": \"#ED986C\", \"strokeWidth\": 2}, \"bar\": {\"binSpacing\": 2, \"fill\": \"#ED986C\", \"stroke\": null}}, \"data\": {\"name\": \"data-a043ae0b29df4426f5f8d0cbcdb87275\"}, \"mark\": \"point\", \"encoding\": {\"color\": {\"type\": \"nominal\", \"field\": \"group\"}, \"x\": {\"type\": \"quantitative\", \"field\": \"x\"}, \"y\": {\"type\": \"quantitative\", \"field\": \"y\"}}, \"title\": \"Mark Point Example\", \"$schema\": \"https://vega.github.io/schema/vega-lite/v4.0.2.json\", \"datasets\": {\"data-a043ae0b29df4426f5f8d0cbcdb87275\": [{\"x\": 0.0, \"y\": 0.0, \"group\": 0}, {\"x\": 1.0, \"y\": 1.0, \"group\": 0}, {\"x\": 2.0, \"y\": 2.0, \"group\": 0}, {\"x\": 0.5, \"y\": 2.0, \"group\": 1}, {\"x\": 1.0, \"y\": 1.5, \"group\": 1}, {\"x\": 2.0, \"y\": 0.0, \"group\": 1}, {\"x\": 0.6, \"y\": 3.0, \"group\": 2}, {\"x\": 1.0, \"y\": 2.7, \"group\": 2}, {\"x\": 1.2, \"y\": 2.2, \"group\": 2}, {\"x\": 0.4, \"y\": 0.4, \"group\": 3}, {\"x\": 1.0, \"y\": 1.4, \"group\": 3}, {\"x\": 1.8, \"y\": 0.7, \"group\": 3}]}}, {\"mode\": \"vega-lite\"});\n",
       "</script>"
      ],
      "text/plain": [
       "alt.Chart(...)"
      ]
     },
     "execution_count": 5,
     "metadata": {},
     "output_type": "execute_result"
    }
   ],
   "source": [
    "alt.Chart(data).mark_point().encode(\n",
    "    x=\"x\",\n",
    "    y=\"y\",\n",
    "    color=\"group:N\"\n",
    ").properties(title=\"Mark Point Example\")"
   ]
  },
  {
   "cell_type": "code",
   "execution_count": null,
   "metadata": {},
   "outputs": [],
   "source": []
  }
 ],
 "metadata": {
  "kernelspec": {
   "display_name": "Python 3",
   "language": "python",
   "name": "python3"
  },
  "language_info": {
   "codemirror_mode": {
    "name": "ipython",
    "version": 3
   },
   "file_extension": ".py",
   "mimetype": "text/x-python",
   "name": "python",
   "nbconvert_exporter": "python",
   "pygments_lexer": "ipython3",
   "version": "3.7.6"
  }
 },
 "nbformat": 4,
 "nbformat_minor": 4
}
